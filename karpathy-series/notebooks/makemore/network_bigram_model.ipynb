{
 "cells": [
  {
   "cell_type": "code",
   "execution_count": 8,
   "id": "14d2536a-cf8f-4e8c-85ca-f4dd069246e1",
   "metadata": {},
   "outputs": [],
   "source": [
    "from torch import manual_seed\n",
    "from functools import partial\n",
    "\n",
    "from pathlib import Path\n",
    "from karpathy_series.makemore.data import read_data\n",
    "from karpathy_series.makemore.models.net import OneLayer, MultiLayer\n",
    "from karpathy_series.makemore.encoding.character import CharacterEncoder, CharacterSet\n",
    "from karpathy_series.makemore.training.data import TrainingSequencer\n",
    "from karpathy_series.makemore.training.learning import Learner\n",
    "from karpathy_series.makemore.models.embedding import OneHotEnbedding\n",
    "from karpathy_series.makemore.models.sequential import OneHotNet\n",
    "from karpathy_series.makemore.bigrams import BiGram\n",
    "from karpathy_series.makemore.models.generation import StringGenerator, BiGramFeedback\n",
    "\n",
    "%matplotlib inline\n",
    "generator = manual_seed(2147483647)"
   ]
  },
  {
   "cell_type": "code",
   "execution_count": 10,
   "id": "81ed41da-10b8-4381-8925-7d6835c3dc7a",
   "metadata": {},
   "outputs": [],
   "source": [
    "data_path = Path(\"../../data/names.txt\")\n",
    "words = read_data(data_path)\n",
    "char_set = CharacterSet.from_words(words)\n",
    "char_encoder = CharacterEncoder.from_charset(char_set)\n",
    "bi_gram_gen = partial(BiGram.generate, \".\")\n",
    "ts_bi = TrainingSequencer(char_encoder, char_encoder, bi_gram_gen)\n",
    "embedding = OneHotEnbedding(char_encoder.size)\n",
    "generator = StringGenerator(char_encoder, char_encoder, BiGramFeedback, char_set.pad, char_set.pad)"
   ]
  },
  {
   "cell_type": "code",
   "execution_count": 3,
   "id": "dde63a0c-76e1-47c0-88cf-2570a318e9ba",
   "metadata": {},
   "outputs": [],
   "source": [
    "one_layer = OneHotNet(embedding, OneLayer.init_random_from_size(char_encoder.size, char_encoder.size))"
   ]
  },
  {
   "cell_type": "code",
   "execution_count": 6,
   "id": "728967b6-3751-400d-9ab3-6886dc2e0362",
   "metadata": {},
   "outputs": [],
   "source": [
    "training_sequence = partial(ts_bi.training_sequence, words, 1000, True)"
   ]
  },
  {
   "cell_type": "code",
   "execution_count": 5,
   "id": "6d3d0400-077e-4c83-a129-57f6ab48b9ff",
   "metadata": {},
   "outputs": [
    {
     "name": "stdout",
     "output_type": "stream",
     "text": [
      "Epoch 10 is finished with loss = 2.414029836654663\n",
      "Epoch 20 is finished with loss = 2.450593948364258\n",
      "Epoch 30 is finished with loss = 2.5024654865264893\n",
      "Epoch 40 is finished with loss = 2.5494003295898438\n",
      "Epoch 50 is finished with loss = 2.4882466793060303\n",
      "Epoch 60 is finished with loss = 2.4964730739593506\n",
      "Epoch 70 is finished with loss = 2.4502453804016113\n",
      "Epoch 80 is finished with loss = 2.410670757293701\n",
      "Epoch 90 is finished with loss = 2.441751718521118\n",
      "Epoch 100 is finished with loss = 2.473726272583008\n"
     ]
    }
   ],
   "source": [
    "learner = Learner(one_layer, 10)\n",
    "learner(training_sequence, epochs=100, report_epochs=10)"
   ]
  },
  {
   "cell_type": "code",
   "execution_count": 14,
   "id": "f0a36b46-7c9d-4d65-814f-d2001c21e358",
   "metadata": {},
   "outputs": [
    {
     "data": {
      "text/plain": [
       "'cony'"
      ]
     },
     "execution_count": 14,
     "metadata": {},
     "output_type": "execute_result"
    }
   ],
   "source": [
    "generator(one_layer)"
   ]
  },
  {
   "cell_type": "code",
   "execution_count": 21,
   "id": "0e205a33-c7aa-431d-89bf-5119c779de49",
   "metadata": {},
   "outputs": [],
   "source": [
    "multi_layer = OneHotNet(embedding, MultiLayer.init_random_from_size(char_encoder.size, char_encoder.size, [300]))"
   ]
  },
  {
   "cell_type": "code",
   "execution_count": 22,
   "id": "7f144a46-5ab0-4b59-974e-9faa79b4f7ff",
   "metadata": {},
   "outputs": [
    {
     "name": "stdout",
     "output_type": "stream",
     "text": [
      "Epoch 20 is finished with loss = 2.5280861854553223\n",
      "Epoch 40 is finished with loss = 2.5574450492858887\n",
      "Epoch 60 is finished with loss = 2.42290997505188\n",
      "Epoch 80 is finished with loss = 2.4704113006591797\n",
      "Epoch 100 is finished with loss = 2.5108680725097656\n"
     ]
    }
   ],
   "source": [
    "m_learner = Learner(multi_layer, 50)\n",
    "m_learner(training_seequence, epochs=100, report_epochs=20)"
   ]
  },
  {
   "cell_type": "code",
   "execution_count": 27,
   "id": "c8e22209-09b4-441c-9ee0-079892986f42",
   "metadata": {},
   "outputs": [
    {
     "data": {
      "text/plain": [
       "'elavindeteelavy'"
      ]
     },
     "execution_count": 27,
     "metadata": {},
     "output_type": "execute_result"
    }
   ],
   "source": [
    "generator(multi_layer)"
   ]
  }
 ],
 "metadata": {
  "kernelspec": {
   "display_name": "Python 3 (ipykernel)",
   "language": "python",
   "name": "python3"
  },
  "language_info": {
   "codemirror_mode": {
    "name": "ipython",
    "version": 3
   },
   "file_extension": ".py",
   "mimetype": "text/x-python",
   "name": "python",
   "nbconvert_exporter": "python",
   "pygments_lexer": "ipython3",
   "version": "3.12.4"
  }
 },
 "nbformat": 4,
 "nbformat_minor": 5
}
