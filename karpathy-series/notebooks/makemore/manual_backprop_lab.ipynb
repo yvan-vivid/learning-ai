{
 "cells": [
  {
   "cell_type": "code",
   "execution_count": 1,
   "metadata": {},
   "outputs": [],
   "source": [
    "import random\n",
    "from functools import partial\n",
    "from itertools import product\n",
    "from pathlib import Path\n",
    "\n",
    "import torch\n",
    "from torch import Generator, eye, tensor, use_deterministic_algorithms, zeros_like\n",
    "from torch.nn.functional import cross_entropy, one_hot\n",
    "\n",
    "from karpathy_series.makemore.bigrams import NGram\n",
    "from karpathy_series.makemore.components.function.loss import CrossEntropyLoss\n",
    "from karpathy_series.makemore.components.generation import NGramNetGenerator\n",
    "from karpathy_series.makemore.components.models.model import Model\n",
    "from karpathy_series.makemore.components.networks.mlp import MPLNet\n",
    "from karpathy_series.makemore.data import read_data\n",
    "from karpathy_series.makemore.encoding.character import CharacterEncoder, CharacterSet, StringEncoder\n",
    "from karpathy_series.makemore.training.data import DataSplit, TrainingSequencer\n",
    "from karpathy_series.makemore.training.learning import LearningRecord\n",
    "\n",
    "random.seed(42)\n",
    "\n",
    "%matplotlib inline\n",
    "use_deterministic_algorithms(True)\n",
    "rand_generator = Generator()\n",
    "seed = 2147483647\n",
    "\n",
    "\n",
    "def create_generator():\n",
    "    return rand_generator.manual_seed(seed)"
   ]
  },
  {
   "cell_type": "code",
   "execution_count": 2,
   "metadata": {},
   "outputs": [],
   "source": [
    "data_path = Path(\"../../data/names.txt\")\n",
    "words = read_data(data_path)\n",
    "char_set = CharacterSet.from_words(words)\n",
    "char_encoder = CharacterEncoder.from_charset(char_set)\n",
    "string_encoder = StringEncoder(char_encoder)\n",
    "\n",
    "context_size = 3\n",
    "embedding_dims = 10\n",
    "hidden_dims = 64\n",
    "\n",
    "n_gram_gen = partial(NGram.generate, context_size, char_set.pad)\n",
    "ts = TrainingSequencer(string_encoder, char_encoder, n_gram_gen)\n",
    "data_split = DataSplit.split(words, 80, 10, 10)\n",
    "learning_sequence = ts.training_sequence(data_split.training, 32, True)\n",
    "validation_set = ts.training_set(data_split.validation)"
   ]
  },
  {
   "cell_type": "code",
   "execution_count": 3,
   "metadata": {},
   "outputs": [
    {
     "name": "stdout",
     "output_type": "stream",
     "text": [
      "4137 parameters\n",
      "An MLP model: Sequence [Embedding [27, 10], Flatten last 2 dims, Linear [30, 64] with bias, BatchNorm1d [64], Functional <built-in method tanh of type object at 0x7f98d2b3ecc0>, Linear [64, 27] with bias] parameters\n"
     ]
    }
   ],
   "source": [
    "g = rand_generator.manual_seed(seed)\n",
    "mpl_net = MPLNet.init(1, char_encoder.size, embedding_dims, context_size, hidden_dims, False, g)\n",
    "model = Model(mpl_net, CrossEntropyLoss())\n",
    "generator = NGramNetGenerator(char_set, string_encoder, char_encoder, mpl_net, context_size)\n",
    "learning_record = LearningRecord()\n",
    "print(f\"{mpl_net.size()} parameters\")\n",
    "print(f\"{mpl_net.describe()} parameters\")"
   ]
  },
  {
   "cell_type": "code",
   "execution_count": 4,
   "metadata": {
    "id": "MJPU8HT08PPu"
   },
   "outputs": [],
   "source": [
    "# utility function we will use later when comparing manual gradients to PyTorch gradients\n",
    "def cmp(s, dt, t):\n",
    "    ex = torch.all(dt == t.grad).item()\n",
    "    app = torch.allclose(dt, t.grad)\n",
    "    maxdiff = (dt - t.grad).abs().max().item()\n",
    "    print(f\"{s:15s} | exact: {str(ex):5s} | approximate: {str(app):5s} | maxdiff: {maxdiff}\")"
   ]
  },
  {
   "cell_type": "code",
   "execution_count": 5,
   "metadata": {
    "id": "ZlFLjQyT8PPu"
   },
   "outputs": [],
   "source": [
    "layers = mpl_net.layers\n",
    "\n",
    "C = layers[0].embedding\n",
    "\n",
    "# Layer 1\n",
    "W1, b1 = layers[2].weight, layers[2].bias\n",
    "\n",
    "# Layer 2\n",
    "W2, b2 = layers[5].weight, layers[5].bias\n",
    "\n",
    "# BatchNorm parameters\n",
    "bngain, bnbias = layers[3].gamma, layers[3].beta"
   ]
  },
  {
   "cell_type": "code",
   "execution_count": 6,
   "metadata": {
    "id": "8ofj1s6d8PPv"
   },
   "outputs": [
    {
     "data": {
      "text/plain": [
       "tensor(3.2965, grad_fn=<NegBackward0>)"
      ]
     },
     "execution_count": 6,
     "metadata": {},
     "output_type": "execute_result"
    }
   ],
   "source": [
    "Xb, Yb = next(learning_sequence())\n",
    "n = Xb.shape[0]\n",
    "c = len(char_set.complete)\n",
    "\n",
    "emb = C[Xb]  # embed the characters into vectors\n",
    "embcat = emb.view(emb.shape[0], -1)  # concatenate the vectors\n",
    "\n",
    "# Linear layer 1\n",
    "hprebn = embcat @ W1 + b1  # hidden layer pre-activation\n",
    "\n",
    "# BatchNorm layer\n",
    "bnmeani = 1 / n * hprebn.sum(0, keepdim=True)\n",
    "bndiff = hprebn - bnmeani\n",
    "bndiff2 = bndiff**2\n",
    "bnvar = 1 / (n - 1) * (bndiff2).sum(0, keepdim=True)  # note: Bessel's correction (dividing by n-1, not n)\n",
    "bnvar_inv = (bnvar + 1e-5) ** -0.5\n",
    "bnraw = bndiff * bnvar_inv\n",
    "hpreact = bngain * bnraw + bnbias\n",
    "\n",
    "# Non-linearity\n",
    "h = torch.tanh(hpreact)  # hidden layer\n",
    "\n",
    "# Linear layer 2\n",
    "logits = h @ W2 + b2  # output layer\n",
    "\n",
    "# cross entropy loss (same as F.cross_entropy(logits, Yb))\n",
    "logit_maxes = logits.max(1, keepdim=True).values\n",
    "norm_logits = logits - logit_maxes  # subtract max for numerical stability\n",
    "counts = norm_logits.exp()\n",
    "counts_sum = counts.sum(1, keepdims=True)\n",
    "counts_sum_inv = counts_sum**-1  # if I use (1.0 / counts_sum) instead then I can't get backprop to be bit exact...\n",
    "probs = counts * counts_sum_inv\n",
    "logprobs = probs.log()\n",
    "loss = -logprobs[range(n), Yb].mean()\n",
    "\n",
    "intermediates = [\n",
    "    logprobs,\n",
    "    probs,\n",
    "    counts,\n",
    "    counts_sum,\n",
    "    counts_sum_inv,\n",
    "    norm_logits,\n",
    "    logit_maxes,\n",
    "    logits,\n",
    "    h,\n",
    "    hpreact,\n",
    "    bnraw,\n",
    "    bnvar_inv,\n",
    "    bnvar,\n",
    "    bndiff2,\n",
    "    bndiff,\n",
    "    hprebn,\n",
    "    bnmeani,\n",
    "    embcat,\n",
    "    emb,\n",
    "]\n",
    "\n",
    "# PyTorch backward pass\n",
    "for p in mpl_net.parameters():\n",
    "    p.grad = None\n",
    "for t in intermediates:\n",
    "    t.retain_grad()\n",
    "loss.backward()\n",
    "loss"
   ]
  },
  {
   "cell_type": "code",
   "execution_count": 7,
   "metadata": {
    "id": "mO-8aqxK8PPw"
   },
   "outputs": [
    {
     "name": "stdout",
     "output_type": "stream",
     "text": [
      "logprobs        | exact: True  | approximate: True  | maxdiff: 0.0\n",
      "probs           | exact: True  | approximate: True  | maxdiff: 0.0\n",
      "counts_sum_inv  | exact: True  | approximate: True  | maxdiff: 0.0\n",
      "counts_sum      | exact: True  | approximate: True  | maxdiff: 0.0\n",
      "counts          | exact: True  | approximate: True  | maxdiff: 0.0\n",
      "norm_logits     | exact: True  | approximate: True  | maxdiff: 0.0\n",
      "logit_maxes     | exact: True  | approximate: True  | maxdiff: 0.0\n",
      "logits          | exact: True  | approximate: True  | maxdiff: 0.0\n",
      "h               | exact: True  | approximate: True  | maxdiff: 0.0\n",
      "W2              | exact: True  | approximate: True  | maxdiff: 0.0\n",
      "b2              | exact: True  | approximate: True  | maxdiff: 0.0\n",
      "hpreact         | exact: False | approximate: True  | maxdiff: 9.094947017729282e-13\n",
      "bngain          | exact: False | approximate: True  | maxdiff: 1.0913936421275139e-11\n",
      "bnbias          | exact: False | approximate: True  | maxdiff: 2.9103830456733704e-11\n",
      "bnraw           | exact: False | approximate: True  | maxdiff: 9.094947017729282e-13\n",
      "bnvar_inv       | exact: False | approximate: True  | maxdiff: 3.637978807091713e-12\n",
      "bnvar           | exact: False | approximate: True  | maxdiff: 8.731149137020111e-11\n",
      "bndiff2         | exact: False | approximate: True  | maxdiff: 3.410605131648481e-13\n",
      "bndiff          | exact: False | approximate: True  | maxdiff: 7.275957614183426e-12\n",
      "bnmeani         | exact: False | approximate: True  | maxdiff: 1.1641532182693481e-10\n",
      "hprebn          | exact: False | approximate: True  | maxdiff: 7.275957614183426e-12\n",
      "embcat          | exact: False | approximate: True  | maxdiff: 1.4551915228366852e-11\n",
      "W1              | exact: False | approximate: True  | maxdiff: 2.9103830456733704e-11\n",
      "b1              | exact: False | approximate: True  | maxdiff: 1.3642420526593924e-10\n",
      "emb             | exact: False | approximate: True  | maxdiff: 1.4551915228366852e-11\n",
      "C               | exact: False | approximate: True  | maxdiff: 2.3283064365386963e-10\n"
     ]
    }
   ],
   "source": [
    "# Exercise 1: backprop through the whole thing manually,\n",
    "# backpropagating through exactly all of the variables\n",
    "# as they are defined in the forward pass above, one by one\n",
    "\n",
    "mask = zeros_like(logprobs)\n",
    "mask[range(n), Yb] = 1\n",
    "dlogprobs = -1 / n * mask\n",
    "dprobs = dlogprobs / probs\n",
    "dcounts_sum_inv = (dprobs * counts).sum(axis=1, keepdims=True)\n",
    "dcounts_sum = -(counts_sum**-2) * dcounts_sum_inv\n",
    "dcounts = counts_sum_inv * dprobs + dcounts_sum\n",
    "dnorm_logits = norm_logits.exp() * dcounts\n",
    "dlogit_maxes = -dnorm_logits.sum(axis=1, keepdims=True)\n",
    "\n",
    "# This selects the max from each row, masking the gradient of the max\n",
    "logit_max_selector = one_hot(logits.max(1).indices, num_classes=logits.shape[1])\n",
    "dlogits = dnorm_logits + logit_max_selector * dlogit_maxes\n",
    "\n",
    "dh = dlogits @ W2.T\n",
    "dW2 = h.T @ dlogits\n",
    "db2 = dlogits.sum(axis=0)\n",
    "dhpreact = (1.0 - h**2) * dh\n",
    "\n",
    "dbngain = (bnraw * dhpreact).sum(0)\n",
    "dbnbias = dhpreact.sum(0)\n",
    "dbnraw = bngain * dhpreact\n",
    "dbnvar_inv = (bndiff * dbnraw).sum(0)\n",
    "dbnvar = -0.5 * (bnvar + 1e-5) ** -1.5 * dbnvar_inv\n",
    "dbndiff2 = 1 / (n - 1) * dbnvar\n",
    "dbndiff = 2 * bndiff * dbndiff2 + bnvar_inv * dbnraw\n",
    "dbnmeani = -dbndiff.sum(0)\n",
    "dhprebn = dbndiff + (1 / n) * dbnmeani\n",
    "\n",
    "dembcat = dhprebn @ W1.T\n",
    "dW1 = embcat.T @ dhprebn\n",
    "db1 = dhprebn.sum(axis=0)\n",
    "\n",
    "demb = dembcat.view(dembcat.shape[0], context_size, embedding_dims)\n",
    "\n",
    "# From lecture. I think this could be vectorized\n",
    "dC = zeros_like(C)\n",
    "for k, j in product(range(n), range(Xb.shape[1])):\n",
    "    dC[Xb[k, j]] += demb[k, j]\n",
    "\n",
    "cmp(\"logprobs\", dlogprobs, logprobs)\n",
    "cmp(\"probs\", dprobs, probs)\n",
    "cmp(\"counts_sum_inv\", dcounts_sum_inv, counts_sum_inv)\n",
    "cmp(\"counts_sum\", dcounts_sum, counts_sum)\n",
    "cmp(\"counts\", dcounts, counts)\n",
    "cmp(\"norm_logits\", dnorm_logits, norm_logits)\n",
    "cmp(\"logit_maxes\", dlogit_maxes, logit_maxes)\n",
    "cmp(\"logits\", dlogits, logits)\n",
    "cmp(\"h\", dh, h)\n",
    "cmp(\"W2\", dW2, W2)\n",
    "cmp(\"b2\", db2, b2)\n",
    "cmp(\"hpreact\", dhpreact, hpreact)\n",
    "cmp(\"bngain\", dbngain, bngain)\n",
    "cmp(\"bnbias\", dbnbias, bnbias)\n",
    "cmp(\"bnraw\", dbnraw, bnraw)\n",
    "cmp(\"bnvar_inv\", dbnvar_inv, bnvar_inv)\n",
    "cmp(\"bnvar\", dbnvar, bnvar)\n",
    "cmp(\"bndiff2\", dbndiff2, bndiff2)\n",
    "cmp(\"bndiff\", dbndiff, bndiff)\n",
    "cmp(\"bnmeani\", dbnmeani, bnmeani)\n",
    "cmp(\"hprebn\", dhprebn, hprebn)\n",
    "cmp(\"embcat\", dembcat, embcat)\n",
    "cmp(\"W1\", dW1, W1)\n",
    "cmp(\"b1\", db1, b1)\n",
    "cmp(\"emb\", demb, emb)\n",
    "cmp(\"C\", dC, C)"
   ]
  },
  {
   "cell_type": "code",
   "execution_count": 8,
   "metadata": {
    "id": "ebLtYji_8PPw"
   },
   "outputs": [
    {
     "name": "stdout",
     "output_type": "stream",
     "text": [
      "3.296450614929199 diff: 0.0\n"
     ]
    }
   ],
   "source": [
    "# Exercise 2: backprop through cross_entropy but all in one go\n",
    "# to complete this challenge look at the mathematical expression of the loss,\n",
    "# take the derivative, simplify the expression, and just write it out\n",
    "loss_fast = cross_entropy(logits, Yb)\n",
    "print(loss_fast.item(), \"diff:\", (loss_fast - loss).item())"
   ]
  },
  {
   "cell_type": "code",
   "execution_count": 9,
   "metadata": {},
   "outputs": [],
   "source": [
    "from torch.nn.functional import one_hot\n",
    "from torch.testing import assert_close\n",
    "\n",
    "x = tensor([[1, 2, 3, 4, 5, 6], [7, 8, 9, 10, 11, 12], [13, 14, 15, 16, 17, 18]])\n",
    "y = tensor([1, 4, 0])\n",
    "o = one_hot(y, num_classes=6)\n",
    "assert_close(x[range(x.shape[0]), y], (o * x).sum(axis=1))\n",
    "\n",
    "Yo = one_hot(Yb, num_classes=c)\n",
    "loss_alt = -(Yo * (logits.softmax(1)).log()).sum(1).mean()\n",
    "assert_close(loss, loss_alt)"
   ]
  },
  {
   "cell_type": "code",
   "execution_count": 10,
   "metadata": {
    "id": "-gCXbB4C8PPx"
   },
   "outputs": [
    {
     "name": "stdout",
     "output_type": "stream",
     "text": [
      "logits          | exact: False | approximate: True  | maxdiff: 1.2078089639544487e-09\n",
      "logits          | exact: False | approximate: True  | maxdiff: 1.2078089639544487e-09\n"
     ]
    }
   ],
   "source": [
    "# My version of a backward pass\n",
    "counts = logits.softmax(1)\n",
    "dlogits = 1 / n * counts * (one_hot(Yb, num_classes=c).unsqueeze(2) * (1 - eye(c, c) / counts.unsqueeze(2))).sum(1)\n",
    "\n",
    "# Andrej's version from the lecture\n",
    "# I should reconcile this with the above (though the above is apparently more precise)\n",
    "_dlogits = counts.clone()\n",
    "_dlogits[range(n), Yb] -= 1\n",
    "_dlogits *= 1 / n\n",
    "\n",
    "# I really need a better set of properties to reason algebraically with the one_hot\n",
    "# The final factor of 1/n and initial `counts` are common\n",
    "# consequently, the following must be equivalent:\n",
    "#    X[range(n), Yb] -= 1\n",
    "#    X *= (one_hot(Yb, ...).unsqueeze(2) * (1 - Id/X.unsqueeze(2))).sum(1)\n",
    "\n",
    "cmp(\"logits\", dlogits, logits)\n",
    "cmp(\"logits\", _dlogits, logits)\n",
    "# Andrej can only get approximate to be true, with a maxdiff of 6e-9\n",
    "# Mine agrees if we both use `* 1/n` rather than `/n`."
   ]
  },
  {
   "cell_type": "code",
   "execution_count": 11,
   "metadata": {
    "id": "hd-MkhB68PPy"
   },
   "outputs": [
    {
     "name": "stdout",
     "output_type": "stream",
     "text": [
      "max diff: tensor(4.7684e-07, grad_fn=<MaxBackward1>)\n"
     ]
    }
   ],
   "source": [
    "# Exercise 3: backprop through batchnorm but all in one go\n",
    "# to complete this challenge look at the mathematical expression of the output of batchnorm,\n",
    "# take the derivative w.r.t. its input, simplify the expression, and just write it out\n",
    "# BatchNorm paper: https://arxiv.org/abs/1502.03167\n",
    "\n",
    "# forward pass\n",
    "\n",
    "# before:\n",
    "# bnmeani = 1/n*hprebn.sum(0, keepdim=True)\n",
    "# bndiff = hprebn - bnmeani\n",
    "# bndiff2 = bndiff**2\n",
    "# bnvar = 1/(n-1)*(bndiff2).sum(0, keepdim=True) # note: Bessel's correction (dividing by n-1, not n)\n",
    "# bnvar_inv = (bnvar + 1e-5)**-0.5\n",
    "# bnraw = bndiff * bnvar_inv\n",
    "# hpreact = bngain * bnraw + bnbias\n",
    "\n",
    "# now:\n",
    "hprebn_std = torch.sqrt(hprebn.var(0, keepdim=True, unbiased=True) + 1e-5)\n",
    "hprebn_norm = (hprebn - hprebn.mean(0, keepdim=True)) / hprebn_std\n",
    "hpreact_fast = bngain * hprebn_norm + bnbias\n",
    "print(\"max diff:\", (hpreact_fast - hpreact).abs().max())"
   ]
  },
  {
   "cell_type": "code",
   "execution_count": 12,
   "metadata": {
    "id": "POdeZSKT8PPy"
   },
   "outputs": [
    {
     "name": "stdout",
     "output_type": "stream",
     "text": [
      "hprebn          | exact: False | approximate: True  | maxdiff: 1.0913936421275139e-11\n",
      "hprebn          | exact: False | approximate: True  | maxdiff: 1.0913936421275139e-11\n"
     ]
    }
   ],
   "source": [
    "# backward pass\n",
    "\n",
    "# before we had:\n",
    "# dbnraw = bngain * dhpreact\n",
    "# dbndiff = bnvar_inv * dbnraw\n",
    "# dbnvar_inv = (bndiff * dbnraw).sum(0, keepdim=True)\n",
    "# dbnvar = (-0.5*(bnvar + 1e-5)**-1.5) * dbnvar_inv\n",
    "# dbndiff2 = (1.0/(n-1))*torch.ones_like(bndiff2) * dbnvar\n",
    "# dbndiff += (2*bndiff) * dbndiff2\n",
    "# dhprebn = dbndiff.clone()\n",
    "# dbnmeani = (-dbndiff).sum(0)\n",
    "# dhprebn += 1.0/n * (torch.ones_like(hprebn) * dbnmeani)\n",
    "\n",
    "# calculate dhprebn given dhpreact (i.e. backprop through the batchnorm)\n",
    "# (you'll also need to use some of the variables from the forward pass up above)\n",
    "\n",
    "dhprebn = (\n",
    "    bngain\n",
    "    * (dhpreact - ((1 / n + 1 / (n - 1) * hprebn_norm * hprebn_norm.unsqueeze(1)) * dhpreact).sum(1))\n",
    "    / hprebn_std\n",
    ")\n",
    "\n",
    "cmp(\"hprebn\", dhprebn, hprebn)\n",
    "\n",
    "# Andrej's version\n",
    "_dhprebn = bngain * bnvar_inv / n * (n * dhpreact - dhpreact.sum(0) - n / (n - 1) * bnraw * (dhpreact * bnraw).sum(0))\n",
    "cmp(\"hprebn\", _dhprebn, hprebn)"
   ]
  },
  {
   "cell_type": "code",
   "execution_count": 13,
   "metadata": {
    "id": "wPy8DhqB8PPz"
   },
   "outputs": [
    {
     "name": "stdout",
     "output_type": "stream",
     "text": [
      "12297\n",
      "      0/  10000: 3.2968\n"
     ]
    }
   ],
   "source": [
    "# Exercise 4: putting it all together!\n",
    "# Train the MLP neural net with your own backward pass\n",
    "\n",
    "# init\n",
    "n_embd = 10  # the dimensionality of the character embedding vectors\n",
    "n_hidden = 200  # the number of neurons in the hidden layer of the MLP\n",
    "encoding_size = char_encoder.size\n",
    "\n",
    "g = torch.Generator().manual_seed(2147483647)  # for reproducibility\n",
    "\n",
    "mpl_net = MPLNet.init(1, encoding_size, n_embd, context_size, n_hidden, False, g)\n",
    "layers = mpl_net.layers\n",
    "C = layers[0].embedding\n",
    "W1, b1 = layers[2].weight, layers[2].bias\n",
    "W2, b2 = layers[5].weight, layers[5].bias\n",
    "bngain, bnbias = layers[3].gamma, layers[3].beta\n",
    "\n",
    "parameters = [C, W1, b1, W2, b2, bngain, bnbias]\n",
    "print(sum(p.nelement() for p in parameters))  # number of parameters in total\n",
    "\n",
    "# same optimization as last time\n",
    "max_steps = 10_000\n",
    "batch_size = 32\n",
    "n = batch_size  # convenience\n",
    "lossi = []\n",
    "\n",
    "with torch.no_grad():\n",
    "    Xtr, Ytr = ts.training_set(data_split.training)\n",
    "\n",
    "# kick off optimization\n",
    "for i in range(max_steps):\n",
    "    # minibatch construct\n",
    "    ix = torch.randint(0, Xtr.shape[0], (batch_size,), generator=g)\n",
    "    Xb, Yb = Xtr[ix], Ytr[ix]  # batch X,Y\n",
    "\n",
    "    # forward pass\n",
    "    emb = C[Xb]  # embed the characters into vectors\n",
    "    embcat = emb.view(emb.shape[0], -1)  # concatenate the vectors\n",
    "    # Linear layer\n",
    "    hprebn = embcat @ W1 + b1  # hidden layer pre-activation\n",
    "    # BatchNorm layer\n",
    "    # -------------------------------------------------------------\n",
    "    bnmean = hprebn.mean(0, keepdim=True)\n",
    "    bnvar = hprebn.var(0, keepdim=True, unbiased=True)\n",
    "    bnvar_inv = (bnvar + 1e-5) ** -0.5\n",
    "    bnraw = (hprebn - bnmean) * bnvar_inv\n",
    "    hpreact = bngain * bnraw + bnbias\n",
    "    # -------------------------------------------------------------\n",
    "    # Non-linearity\n",
    "    h = torch.tanh(hpreact)  # hidden layer\n",
    "    logits = h @ W2 + b2  # output layer\n",
    "    loss = cross_entropy(logits, Yb)  # loss function\n",
    "\n",
    "    # backward pass\n",
    "    for p in parameters:\n",
    "        p.grad = None\n",
    "    # loss.backward() # use this for correctness comparisons, delete it later!\n",
    "\n",
    "    counts = logits.softmax(1)\n",
    "    dlogits = (\n",
    "        -1\n",
    "        / n\n",
    "        * (one_hot(Yb, num_classes=c).unsqueeze(2) * (eye(c, c) / counts.unsqueeze(2) - 1) * counts.unsqueeze(1)).sum(1)\n",
    "    )\n",
    "    dh = dlogits @ W2.T\n",
    "    dW2 = h.T @ dlogits\n",
    "    db2 = dlogits.sum(axis=0)\n",
    "    dhpreact = (1.0 - h**2) * dh\n",
    "\n",
    "    dbngain = (bnraw * dhpreact).sum(0)\n",
    "    dbnbias = dhpreact.sum(0)\n",
    "    hprebn_std = torch.sqrt(hprebn.var(0, keepdim=True, unbiased=True) + 1e-5)\n",
    "    hprebn_norm = (hprebn - hprebn.mean(0, keepdim=True)) / hprebn_std\n",
    "    dhprebn = (\n",
    "        bngain\n",
    "        * hprebn_std**-1\n",
    "        * (dhpreact - ((1 / n + 1 / (n - 1) * hprebn_norm * hprebn_norm.unsqueeze(1)) * dhpreact).sum(1))\n",
    "    )\n",
    "\n",
    "    dembcat = dhprebn @ W1.T\n",
    "    dW1 = embcat.T @ dhprebn\n",
    "    db1 = dhprebn.sum(axis=0)\n",
    "    demb = dembcat.view(dembcat.shape[0], context_size, embedding_dims)\n",
    "\n",
    "    # From lecture. I think this could be vectorized\n",
    "    dC = zeros_like(C)\n",
    "    for k, j in product(range(n), range(Xb.shape[1])):\n",
    "        dC[Xb[k, j]] += demb[k, j]\n",
    "\n",
    "    grads = [dC, dW1, db1, dW2, db2, dbngain, dbnbias]\n",
    "    # -----------------\n",
    "\n",
    "    # update\n",
    "    lr = 0.1 if i < 100000 else 0.01  # step learning rate decay\n",
    "    for p, grad in zip(parameters, grads):\n",
    "        p.data += -lr * grad  # new way of swole doge TODO: enable\n",
    "\n",
    "    # track stats\n",
    "    if i % 10000 == 0:  # print every once in a while\n",
    "        print(f\"{i:7d}/{max_steps:7d}: {loss.item():.4f}\")\n",
    "    lossi.append(loss.log10().item())"
   ]
  },
  {
   "cell_type": "code",
   "execution_count": 14,
   "metadata": {
    "id": "ZEpI0hMW8PPz"
   },
   "outputs": [],
   "source": [
    "# useful for checking your gradients\n",
    "# for p,g in zip(parameters, grads):\n",
    "#   cmp(str(tuple(p.shape)), g, p)"
   ]
  },
  {
   "cell_type": "code",
   "execution_count": 15,
   "metadata": {
    "id": "KImLWNoh8PP0"
   },
   "outputs": [],
   "source": [
    "# calibrate the batch norm at the end of training\n",
    "\n",
    "with torch.no_grad():\n",
    "    # pass the training set through\n",
    "    emb = C[Xtr]\n",
    "    embcat = emb.view(emb.shape[0], -1)\n",
    "    hpreact = embcat @ W1 + b1\n",
    "    # measure the mean/std over the entire training set\n",
    "    bnmean = hpreact.mean(0, keepdim=True)\n",
    "    bnvar = hpreact.var(0, keepdim=True, unbiased=True)"
   ]
  },
  {
   "cell_type": "code",
   "execution_count": 16,
   "metadata": {
    "id": "6aFnP_Zc8PP0"
   },
   "outputs": [
    {
     "name": "stdout",
     "output_type": "stream",
     "text": [
      "train 2.2498579025268555\n",
      "val 2.26698899269104\n"
     ]
    }
   ],
   "source": [
    "# evaluate train and val loss\n",
    "\n",
    "\n",
    "@torch.no_grad()  # this decorator disables gradient tracking\n",
    "def split_loss(split):\n",
    "    x, y = {\n",
    "        \"train\": ts.training_set(data_split.training),\n",
    "        \"val\": ts.training_set(data_split.validation),\n",
    "        \"test\": ts.training_set(data_split.development),\n",
    "    }[split]\n",
    "    emb = C[x]  # (N, block_size, n_embd)\n",
    "    embcat = emb.view(emb.shape[0], -1)  # concat into (N, block_size * n_embd)\n",
    "    hpreact = embcat @ W1 + b1\n",
    "    hpreact = bngain * (hpreact - bnmean) * (bnvar + 1e-5) ** -0.5 + bnbias\n",
    "    h = torch.tanh(hpreact)  # (N, n_hidden)\n",
    "    logits = h @ W2 + b2  # (N, vocab_size)\n",
    "    loss = cross_entropy(logits, y)\n",
    "    print(split, loss.item())\n",
    "\n",
    "\n",
    "split_loss(\"train\")\n",
    "split_loss(\"val\")"
   ]
  },
  {
   "cell_type": "code",
   "execution_count": null,
   "metadata": {
    "id": "esWqmhyj8PP1"
   },
   "outputs": [],
   "source": [
    "# Andrej achieved:\n",
    "# train 2.0718822479248047\n",
    "# val 2.1162495613098145\n",
    "#\n",
    "# I got:\n",
    "# train 2.068848133087158\n",
    "# val 2.110271453857422"
   ]
  },
  {
   "cell_type": "code",
   "execution_count": 17,
   "metadata": {
    "id": "xHeQNv3s8PP1"
   },
   "outputs": [
    {
     "name": "stdout",
     "output_type": "stream",
     "text": [
      "mora.\n",
      "mmyanna.\n",
      "elma.\n",
      "hayla.\n",
      "rensry.\n",
      "brdraeg.\n",
      "azeredielie.\n",
      "maliona.\n",
      "edelleananar.\n",
      "kayzioh.\n",
      "kamin.\n",
      "shubergahiriel.\n",
      "kindreelyn.\n",
      "xethuorius.\n",
      "macder.\n",
      "yah.\n",
      "faelsylay.\n",
      "miston.\n",
      "mahal.\n",
      "calynnsun.\n"
     ]
    }
   ],
   "source": [
    "# sample from the model\n",
    "g = torch.Generator().manual_seed(2147483647 + 10)\n",
    "\n",
    "for _ in range(20):\n",
    "    out = []\n",
    "    context = [0] * context_size  # initialize with all ...\n",
    "    while True:\n",
    "        # forward pass\n",
    "        emb = C[torch.tensor([context])]  # (1,block_size,d)\n",
    "        embcat = emb.view(emb.shape[0], -1)  # concat into (N, block_size * n_embd)\n",
    "        hpreact = embcat @ W1 + b1\n",
    "        hpreact = bngain * (hpreact - bnmean) * (bnvar + 1e-5) ** -0.5 + bnbias\n",
    "        h = torch.tanh(hpreact)  # (N, n_hidden)\n",
    "        logits = h @ W2 + b2  # (N, vocab_size)\n",
    "        # sample\n",
    "        probs = logits.softmax(1)\n",
    "        ix = torch.multinomial(probs, num_samples=1, generator=g).item()\n",
    "        context = context[1:] + [ix]\n",
    "        out.append(ix)\n",
    "        if ix == 0:\n",
    "            break\n",
    "\n",
    "    print(\"\".join(char_encoder.decode_or_raise(i) for i in out))"
   ]
  }
 ],
 "metadata": {
  "colab": {
   "provenance": []
  },
  "kernelspec": {
   "display_name": "Python 3 (ipykernel)",
   "language": "python",
   "name": "python3"
  },
  "language_info": {
   "codemirror_mode": {
    "name": "ipython",
    "version": 3
   },
   "file_extension": ".py",
   "mimetype": "text/x-python",
   "name": "python",
   "nbconvert_exporter": "python",
   "pygments_lexer": "ipython3",
   "version": "3.12.9"
  }
 },
 "nbformat": 4,
 "nbformat_minor": 4
}
