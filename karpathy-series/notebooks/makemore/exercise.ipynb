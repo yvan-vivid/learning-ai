{
 "cells": [
  {
   "cell_type": "code",
   "execution_count": 1,
   "id": "14d2536a-cf8f-4e8c-85ca-f4dd069246e1",
   "metadata": {},
   "outputs": [],
   "source": [
    "from matplotlib import pyplot as plt\n",
    "from torch import manual_seed\n",
    "\n",
    "from pathlib import Path\n",
    "from karpathy_series.makemore.data import read_data\n",
    "from karpathy_series.makemore.models.frequentist import FreqModel\n",
    "from karpathy_series.makemore.models.net import OneLayer, MultiLayer\n",
    "from karpathy_series.makemore.encoding.word_encoding import DelimitedWordEncoder\n",
    "from karpathy_series.makemore.models.training import make_training, Learner\n",
    "from karpathy_series.makemore.models.embedding import OneHotEnbedding\n",
    "\n",
    "%matplotlib inline\n",
    "generator = manual_seed(2147483647)"
   ]
  },
  {
   "cell_type": "code",
   "execution_count": 2,
   "id": "81ed41da-10b8-4381-8925-7d6835c3dc7a",
   "metadata": {},
   "outputs": [],
   "source": [
    "data_path = Path(\"../../data/names.txt\")\n",
    "words = read_data(data_path)\n",
    "encoding = DelimitedWordEncoder.from_words(words)\n",
    "token_words = encoding.encodes(words)"
   ]
  },
  {
   "cell_type": "code",
   "execution_count": 10,
   "id": "1d6c38eb-5d1f-4ab0-b7a8-46b898260f8f",
   "metadata": {},
   "outputs": [],
   "source": [
    "freq_model = FreqModel.from_words(encoding.token_count, encoding.boundary, token_words)"
   ]
  },
  {
   "cell_type": "code",
   "execution_count": null,
   "id": "a1ad86f7-bbcd-4849-9a3f-cb58035672cf",
   "metadata": {},
   "outputs": [],
   "source": [
    "plt.figure(figsize=(16, 16))\n",
    "plt.imshow(freq_model.under, cmap=\"Blues\")\n",
    "for i, j, count in freq_model.items():\n",
    "    code = encoding.decode_letter(i) + encoding.decode_letter(j)\n",
    "    color = \"red\" if count == 0 else (\"white\" if count > 3000 else \"gray\")\n",
    "    plt.text(j, i, code, ha=\"center\", va=\"bottom\", color=color)\n",
    "    plt.text(j, i, count, ha=\"center\", va=\"top\", color=color)\n",
    "plt.axis(\"off\")"
   ]
  },
  {
   "cell_type": "code",
   "execution_count": 11,
   "id": "f559c88c-be88-4cb1-90c1-4a098f2fcdda",
   "metadata": {},
   "outputs": [
    {
     "data": {
      "text/plain": [
       "2.457430821309448"
      ]
     },
     "execution_count": 11,
     "metadata": {},
     "output_type": "execute_result"
    }
   ],
   "source": [
    "generated = [freq_model.generate() for _ in range(10000)]\n",
    "generated_stream = encoding.form_token_stream(generated)\n",
    "freq_model.loss(generated_stream)"
   ]
  },
  {
   "cell_type": "code",
   "execution_count": 3,
   "id": "dde63a0c-76e1-47c0-88cf-2570a318e9ba",
   "metadata": {},
   "outputs": [],
   "source": [
    "embedding = OneHotEnbedding(encoding.token_count)\n",
    "one_layer = OneLayer.init_random_from_size(encoding.token_count)"
   ]
  },
  {
   "cell_type": "code",
   "execution_count": 4,
   "id": "6d3d0400-077e-4c83-a129-57f6ab48b9ff",
   "metadata": {},
   "outputs": [
    {
     "name": "stdout",
     "output_type": "stream",
     "text": [
      "Epoch 0 is finished with loss = 3.7126548290252686\n",
      "Epoch 21 is finished with loss = 2.55835223197937\n",
      "Epoch 42 is finished with loss = 2.505579948425293\n",
      "Epoch 63 is finished with loss = 2.4873642921447754\n",
      "Epoch 84 is finished with loss = 2.4781365394592285\n"
     ]
    }
   ],
   "source": [
    "xis, yis = make_training(token_words)\n",
    "xs, ys = map(embedding, (xis, yis))\n",
    "learner = Learner(one_layer, 50)\n",
    "learner(((xs, ys),), epochs=100, report_epochs=20)"
   ]
  },
  {
   "cell_type": "code",
   "execution_count": 8,
   "id": "0e205a33-c7aa-431d-89bf-5119c779de49",
   "metadata": {},
   "outputs": [],
   "source": [
    "multi_layer = MultiLayer.init_random_from_size(encoding.token_count, [300])"
   ]
  },
  {
   "cell_type": "code",
   "execution_count": 9,
   "id": "7f144a46-5ab0-4b59-974e-9faa79b4f7ff",
   "metadata": {},
   "outputs": [
    {
     "name": "stdout",
     "output_type": "stream",
     "text": [
      "Epoch 0 is finished with loss = 3.2897391319274902\n",
      "Epoch 21 is finished with loss = 2.588083505630493\n",
      "Epoch 42 is finished with loss = 2.498837947845459\n",
      "Epoch 63 is finished with loss = 2.4815101623535156\n",
      "Epoch 84 is finished with loss = 2.472572088241577\n"
     ]
    }
   ],
   "source": [
    "m_learner = Learner(multi_layer, 300)\n",
    "m_learner(((xs, ys),), epochs=100, report_epochs=20)"
   ]
  }
 ],
 "metadata": {
  "kernelspec": {
   "display_name": "Python 3 (ipykernel)",
   "language": "python",
   "name": "python3"
  },
  "language_info": {
   "codemirror_mode": {
    "name": "ipython",
    "version": 3
   },
   "file_extension": ".py",
   "mimetype": "text/x-python",
   "name": "python",
   "nbconvert_exporter": "python",
   "pygments_lexer": "ipython3",
   "version": "3.12.4"
  }
 },
 "nbformat": 4,
 "nbformat_minor": 5
}
