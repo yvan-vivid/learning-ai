{
 "cells": [
  {
   "cell_type": "code",
   "execution_count": 1,
   "id": "14d2536a-cf8f-4e8c-85ca-f4dd069246e1",
   "metadata": {},
   "outputs": [],
   "source": [
    "\n",
    "from torch import tensor, use_deterministic_algorithms\n",
    "\n",
    "from karpathy_series.makemore.components.neuro.sequence import Sequence\n",
    "from karpathy_series.makemore.util import set_rand_karpathy\n",
    "\n",
    "%matplotlib inline\n",
    "use_deterministic_algorithms(True)\n",
    "set_rand_karpathy()"
   ]
  },
  {
   "cell_type": "code",
   "execution_count": 2,
   "id": "99f5a397-d29a-43b9-9631-eebed6cb396b",
   "metadata": {},
   "outputs": [],
   "source": [
    "main_window = tensor(range(48)).view(2, 8, 3)\n",
    "a = main_window.view(2, 4, 2, 3)\n",
    "\n",
    "# The schema here is to expand at dim=1 after the main batch dimension\n",
    "b = main_window.unflatten(1, (-1, 2))\n",
    "assert (a == b).all().item()"
   ]
  },
  {
   "cell_type": "code",
   "execution_count": 3,
   "id": "8dfdc178-92ed-448b-9c83-715b0573560a",
   "metadata": {},
   "outputs": [
    {
     "name": "stdout",
     "output_type": "stream",
     "text": [
      "torch.Size([5, 2]) - 8 - torch.Size([3, 4])\n",
      "4 24\n",
      "torch.Size([5, 2, 4, 24])\n"
     ]
    }
   ],
   "source": [
    "from operator import mul\n",
    "from functools import reduce\n",
    "main_window = tensor(range(5*2*8*3*4)).view(5, 2, 8, 3, 4)\n",
    "#a = main_window.view(2, 4, 2, 3)\n",
    "#a.shape\n",
    "\n",
    "dim = 2\n",
    "factor = 2\n",
    "\n",
    "s = main_window.shape\n",
    "pre = s[:dim]\n",
    "f = s[dim]\n",
    "post = s[dim+1:]\n",
    "print(f\"{pre} - {f} - {post}\")\n",
    "\n",
    "fp = f // factor\n",
    "l = reduce(mul, post, 1)*factor\n",
    "\n",
    "print(fp, l)\n",
    "\n",
    "v = pre + (fp, l)\n",
    "print(v)\n",
    "\n"
   ]
  },
  {
   "cell_type": "code",
   "execution_count": 4,
   "id": "6c964da7-c97b-42cd-82b8-bad4760b2c39",
   "metadata": {},
   "outputs": [
    {
     "name": "stdout",
     "output_type": "stream",
     "text": [
      "torch.Size([2, 15])\n",
      "torch.Size([2, 15, 2]) Embedding [5, 2]\n",
      "torch.Size([2, 5, 3, 2]) Expand dim 1 into 3 sized batches\n",
      "torch.Size([2, 5, 6]) Flatten last 2 dims\n",
      "torch.Size([2, 5, 4]) Linear [6, 4] with bias\n",
      "torch.Size([2, 5, 4]) Functional <built-in method tanh of type object at 0x7f1000f43ce0>\n",
      "torch.Size([2, 20]) Flatten last 2 dims\n",
      "torch.Size([2, 4]) Linear [20, 4] with bias\n"
     ]
    }
   ],
   "source": [
    "from karpathy_series.makemore.components.neuro.embedding import Embedding\n",
    "from karpathy_series.makemore.components.neuro.expand import Expand\n",
    "from karpathy_series.makemore.components.neuro.flatten import Flatten\n",
    "from karpathy_series.makemore.components.neuro.functional import Tanh\n",
    "from karpathy_series.makemore.components.neuro.linear import Linear\n",
    "\n",
    "code_size = 5\n",
    "in_dims = 2\n",
    "input_len = 15\n",
    "grouping_size = 3\n",
    "group_count = input_len // grouping_size\n",
    "layer_2 = 4\n",
    "layers = [\n",
    "    # N[s, l] => R[s, l, d]\n",
    "    Embedding(code_size, in_dims),\n",
    "\n",
    "    # R[s, l, d] => R[s, g, c, d], l = gc\n",
    "    Expand(1, grouping_size),\n",
    "\n",
    "    # R[s, g, c, d] => R[s, g, cd]\n",
    "    Flatten(2),\n",
    "\n",
    "    # R[s, g, cd] => R[s, g, v]\n",
    "    Linear(grouping_size * in_dims, layer_2),\n",
    "\n",
    "    # Pointwise\n",
    "    Tanh(),\n",
    "\n",
    "    # R[s, g, v] => R[s, gv]\n",
    "    Flatten(2),\n",
    "    \n",
    "    # R[s, gv] => R[s, o]\n",
    "    Linear(group_count * layer_2, 4),\n",
    "]\n",
    "\n",
    "x_in = tensor([[0, 1, 2, 3, 4, 0, 1, 2, 3, 4, 0, 1, 2, 3, 4], [0, 1, 2, 3, 4, 0, 1, 2, 3, 4, 0, 1, 2, 3, 4]])\n",
    "\n",
    "x = x_in\n",
    "print(x.shape)\n",
    "for l in layers:\n",
    "    x = l(x)\n",
    "    print(x.shape, l.describe())"
   ]
  },
  {
   "cell_type": "code",
   "execution_count": 5,
   "id": "95692c13-0590-46c3-97ad-6a77451ed36e",
   "metadata": {},
   "outputs": [
    {
     "name": "stdout",
     "output_type": "stream",
     "text": [
      "torch.Size([2, 15])\n",
      "torch.Size([2, 15, 2]) Embedding [5, 2]\n",
      "torch.Size([2, 5, 6]) Move a factor of 3 from 1 to 2\n",
      "torch.Size([2, 5, 4]) Linear [6, 4] with bias\n",
      "torch.Size([2, 5, 4]) Functional <built-in method tanh of type object at 0x7f1000f43ce0>\n",
      "torch.Size([2, 20]) Flatten last 2 dims\n",
      "torch.Size([2, 4]) Linear [20, 4] with bias\n"
     ]
    }
   ],
   "source": [
    "from karpathy_series.makemore.components.neuro.slide import Slide\n",
    "\n",
    "layers = [\n",
    "    # N[s, l] => R[s, l, d]\n",
    "    Embedding(code_size, in_dims),\n",
    "\n",
    "    # R[s, l, d] => R[s, g, cd], l = gc\n",
    "    Slide(1, grouping_size),\n",
    "\n",
    "    # R[s, g, cd] => R[s, g, v]\n",
    "    Linear(grouping_size * in_dims, layer_2),\n",
    "\n",
    "    # Pointwise\n",
    "    Tanh(),\n",
    "\n",
    "    # R[s, g, v] => R[s, gv]\n",
    "    Flatten(2),\n",
    "    \n",
    "    # R[s, gv] => R[s, o]\n",
    "    Linear(group_count * layer_2, 4),\n",
    "]\n",
    "\n",
    "x_in = tensor([[0, 1, 2, 3, 4, 0, 1, 2, 3, 4, 0, 1, 2, 3, 4], [0, 1, 2, 3, 4, 0, 1, 2, 3, 4, 0, 1, 2, 3, 4]])\n",
    "\n",
    "x = x_in\n",
    "print(x.shape)\n",
    "for l in layers:\n",
    "    x = l(x)\n",
    "    print(x.shape, l.describe())"
   ]
  },
  {
   "cell_type": "code",
   "execution_count": 9,
   "id": "b3ce4b3a-7ee7-4aeb-9c82-2800aa225b21",
   "metadata": {},
   "outputs": [
    {
     "name": "stdout",
     "output_type": "stream",
     "text": [
      "Sequence [Embedding [27, 10], Move a factor of 2 from 1 to 2, Linear [20, 200] with bias, BatchNorm1d [200], Functional <built-in method tanh of type object at 0x7f1000f43ce0>, Move a factor of 2 from 1 to 2, Linear [400, 200] with bias, BatchNorm1d [200], Functional <built-in method tanh of type object at 0x7f1000f43ce0>, Move a factor of 2 from 1 to 2, Linear [400, 10] with bias, BatchNorm1d [10]]\n"
     ]
    }
   ],
   "source": [
    "from karpathy_series.makemore.components.neuro.batch_norm import BatchNorm1d\n",
    "\n",
    "context_size = 8\n",
    "charset_size = 27\n",
    "embedding_dims = 10\n",
    "hidden_dims = 200\n",
    "net = Sequence([\n",
    "    # N[b, 8n] => R[b, 8n, d]\n",
    "    Embedding(charset_size, embedding_dims),\n",
    "    \n",
    "    # R[b, 8n, d] => R[b, 4n, 2d]\n",
    "    Slide(1, 2),\n",
    "\n",
    "    # R[b, 4n, 2d] => R[b, 4n, h]\n",
    "    Linear(2 * embedding_dims, hidden_dims),\n",
    "    BatchNorm1d(hidden_dims, init_scale=0.01),\n",
    "    Tanh(),\n",
    "    \n",
    "    # R[b, 4n, h] => R[b, 2n, 2h]\n",
    "    Slide(1, 2),\n",
    "    \n",
    "    # R[b, 2n, 2h] => R[b, 2n, h]\n",
    "    Linear(2 * hidden_dims, hidden_dims),\n",
    "    BatchNorm1d(hidden_dims, init_scale=0.01),\n",
    "    Tanh(),\n",
    "    \n",
    "    # R[b, 2n, h] => R[b, n, 2h]\n",
    "    Slide(1, 2),\n",
    "    \n",
    "    # R[b, n, 2h] => R[b, n, N], n is 1 for 8, we will assume\n",
    "    Linear(2 * hidden_dims, embedding_dims),\n",
    "    BatchNorm1d(embedding_dims, init_scale=0.01),\n",
    "])\n",
    "\n",
    "print(net.describe())"
   ]
  }
 ],
 "metadata": {
  "kernelspec": {
   "display_name": "Python 3 (ipykernel)",
   "language": "python",
   "name": "python3"
  },
  "language_info": {
   "codemirror_mode": {
    "name": "ipython",
    "version": 3
   },
   "file_extension": ".py",
   "mimetype": "text/x-python",
   "name": "python",
   "nbconvert_exporter": "python",
   "pygments_lexer": "ipython3",
   "version": "3.13.4"
  }
 },
 "nbformat": 4,
 "nbformat_minor": 5
}
