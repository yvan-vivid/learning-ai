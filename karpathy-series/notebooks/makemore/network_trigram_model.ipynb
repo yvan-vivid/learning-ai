{
 "cells": [
  {
   "cell_type": "code",
   "execution_count": 2,
   "id": "14d2536a-cf8f-4e8c-85ca-f4dd069246e1",
   "metadata": {},
   "outputs": [],
   "source": [
    "from torch import manual_seed\n",
    "from functools import partial\n",
    "\n",
    "from pathlib import Path\n",
    "from karpathy_series.makemore.data import read_data\n",
    "from karpathy_series.makemore.encoding.character import CharacterEncoder, CharacterSet, BiCharacterEncoder\n",
    "from karpathy_series.makemore.training.data import TrainingSequencer\n",
    "from karpathy_series.makemore.training.learning import Learner\n",
    "from karpathy_series.makemore.models.linear import Linear\n",
    "from karpathy_series.makemore.bigrams import TriGram\n",
    "from karpathy_series.makemore.models.generation import TriGramNetGenerator\n",
    "\n",
    "%matplotlib inline\n",
    "generator = manual_seed(2147483647)"
   ]
  },
  {
   "cell_type": "code",
   "execution_count": 3,
   "id": "81ed41da-10b8-4381-8925-7d6835c3dc7a",
   "metadata": {},
   "outputs": [],
   "source": [
    "data_path = Path(\"../../data/names.txt\")\n",
    "words = read_data(data_path)\n",
    "char_set = CharacterSet.from_words(words)\n",
    "char_encoder = CharacterEncoder.from_charset(char_set)\n",
    "bi_char_encoder = BiCharacterEncoder.from_charset(char_set)\n",
    "tri_gram_gen = partial(TriGram.generate, \".\")\n",
    "ts_tri = TrainingSequencer(bi_char_encoder, char_encoder, tri_gram_gen)"
   ]
  },
  {
   "cell_type": "code",
   "execution_count": 4,
   "id": "87329ae2-d9ff-4880-94b9-47515b7f82a5",
   "metadata": {},
   "outputs": [],
   "source": [
    "training_sequence = partial(ts_tri.training_sequence, words, 1000, True)"
   ]
  },
  {
   "cell_type": "code",
   "execution_count": 5,
   "id": "80b2d641-6b63-4b19-835b-4997c43b6447",
   "metadata": {},
   "outputs": [],
   "source": [
    "one_layer = Linear.init_random_from_size(bi_char_encoder.size, char_encoder.size)\n",
    "generator = TriGramNetGenerator(char_set, bi_char_encoder, char_encoder, one_layer)"
   ]
  },
  {
   "cell_type": "code",
   "execution_count": 6,
   "id": "5be337a1-f538-4a10-bfd4-ad7f859ba390",
   "metadata": {},
   "outputs": [
    {
     "name": "stdout",
     "output_type": "stream",
     "text": [
      "Epoch 10 is finished with loss = 2.5299580097198486\n",
      "Epoch 20 is finished with loss = 2.3874881267547607\n",
      "Epoch 30 is finished with loss = 2.3000972270965576\n",
      "Epoch 40 is finished with loss = 2.2136919498443604\n",
      "Epoch 50 is finished with loss = 2.234705924987793\n",
      "Epoch 60 is finished with loss = 2.3347675800323486\n",
      "Epoch 70 is finished with loss = 2.2564754486083984\n",
      "Epoch 80 is finished with loss = 2.271411657333374\n",
      "Epoch 90 is finished with loss = 2.1833977699279785\n",
      "Epoch 100 is finished with loss = 2.226571559906006\n"
     ]
    }
   ],
   "source": [
    "learner = Learner(one_layer, 30)\n",
    "learner(training_sequence, epochs=100, report_epochs=10)"
   ]
  },
  {
   "cell_type": "code",
   "execution_count": 13,
   "id": "833e0145-b1f9-4e6f-a4e1-8fd34d3f8540",
   "metadata": {},
   "outputs": [
    {
     "data": {
      "text/plain": [
       "'chany'"
      ]
     },
     "execution_count": 13,
     "metadata": {},
     "output_type": "execute_result"
    }
   ],
   "source": [
    "generator()"
   ]
  }
 ],
 "metadata": {
  "kernelspec": {
   "display_name": "Python 3 (ipykernel)",
   "language": "python",
   "name": "python3"
  },
  "language_info": {
   "codemirror_mode": {
    "name": "ipython",
    "version": 3
   },
   "file_extension": ".py",
   "mimetype": "text/x-python",
   "name": "python",
   "nbconvert_exporter": "python",
   "pygments_lexer": "ipython3",
   "version": "3.12.4"
  }
 },
 "nbformat": 4,
 "nbformat_minor": 5
}
