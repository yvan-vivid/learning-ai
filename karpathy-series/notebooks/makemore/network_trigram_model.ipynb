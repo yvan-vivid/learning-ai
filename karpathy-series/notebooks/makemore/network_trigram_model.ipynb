{
 "cells": [
  {
   "cell_type": "code",
   "execution_count": 26,
   "id": "14d2536a-cf8f-4e8c-85ca-f4dd069246e1",
   "metadata": {},
   "outputs": [],
   "source": [
    "from matplotlib import pyplot as plt\n",
    "from torch import manual_seed\n",
    "from functools import partial\n",
    "\n",
    "from pathlib import Path\n",
    "from karpathy_series.makemore.data import read_data\n",
    "from karpathy_series.makemore.models.net import OneLayer, MultiLayer\n",
    "from karpathy_series.makemore.encoding.character import CharacterEncoder, CharacterSet, BiCharacterEncoder\n",
    "from karpathy_series.makemore.training.data import TrainingSequencer\n",
    "from karpathy_series.makemore.training.learning import Learner\n",
    "from karpathy_series.makemore.models.embedding import OneHotEnbedding\n",
    "from karpathy_series.makemore.models.sequential import OneHotNet\n",
    "from karpathy_series.makemore.bigrams import TriGram\n",
    "\n",
    "%matplotlib inline\n",
    "generator = manual_seed(2147483647)"
   ]
  },
  {
   "cell_type": "code",
   "execution_count": 30,
   "id": "81ed41da-10b8-4381-8925-7d6835c3dc7a",
   "metadata": {},
   "outputs": [],
   "source": [
    "data_path = Path(\"../../data/names.txt\")\n",
    "words = read_data(data_path)\n",
    "char_set = CharacterSet.from_words(words)\n",
    "char_encoder = CharacterEncoder.from_charset(char_set)\n",
    "bi_char_encoder = BiCharacterEncoder.from_charset(char_set)\n",
    "tri_gram_gen = partial(TriGram.generate, \".\")\n",
    "ts_tri = TrainingSequencer(bi_char_encoder, char_encoder, tri_gram_gen)\n",
    "embedding = OneHotEnbedding(char_encoder.size)\n",
    "bi_embedding = OneHotEnbedding(bi_char_encoder.size)\n",
    "training_sequence = TrainingSequencer.training_sequence(bi_char_encoder, char_encoder, tri_gram_gen)"
   ]
  },
  {
   "cell_type": "code",
   "execution_count": 31,
   "id": "80b2d641-6b63-4b19-835b-4997c43b6447",
   "metadata": {},
   "outputs": [],
   "source": [
    "one_layer = OneHotNet(bi_embedding, OneLayer.init_random_from_size(bi_char_encoder.size, char_encoder.size))"
   ]
  },
  {
   "cell_type": "code",
   "execution_count": 32,
   "id": "5be337a1-f538-4a10-bfd4-ad7f859ba390",
   "metadata": {},
   "outputs": [
    {
     "name": "stdout",
     "output_type": "stream",
     "text": [
      "Epoch 10 is finished with loss = 2.4202749729156494\n",
      "Epoch 20 is finished with loss = 2.587707757949829\n",
      "Epoch 30 is finished with loss = 2.422335624694824\n",
      "Epoch 40 is finished with loss = 2.459090232849121\n",
      "Epoch 50 is finished with loss = 2.4141697883605957\n",
      "Epoch 60 is finished with loss = 2.3743252754211426\n",
      "Epoch 70 is finished with loss = 2.4818546772003174\n",
      "Epoch 80 is finished with loss = 2.503683567047119\n",
      "Epoch 90 is finished with loss = 2.406252145767212\n",
      "Epoch 100 is finished with loss = 2.4334774017333984\n"
     ]
    }
   ],
   "source": [
    "learner = Learner(one_layer, 30)\n",
    "learner(training_seequence, epochs=100, report_epochs=10)"
   ]
  },
  {
   "cell_type": "code",
   "execution_count": 35,
   "id": "2cc7c234-7c78-4314-9a42-36256ea1553b",
   "metadata": {},
   "outputs": [],
   "source": [
    "multi_layer = OneHotNet(bi_embedding, MultiLayer.init_random_from_size(bi_char_encoder.size, char_encoder.size, [100, 30]))"
   ]
  },
  {
   "cell_type": "code",
   "execution_count": 36,
   "id": "dec0c81d-e9f6-4020-a2ba-e112269c8d09",
   "metadata": {},
   "outputs": [
    {
     "name": "stdout",
     "output_type": "stream",
     "text": [
      "Epoch 10 is finished with loss = 2.4796972274780273\n",
      "Epoch 20 is finished with loss = 2.5779929161071777\n",
      "Epoch 30 is finished with loss = 2.4883997440338135\n",
      "Epoch 40 is finished with loss = 2.458904266357422\n",
      "Epoch 50 is finished with loss = 2.4386415481567383\n",
      "Epoch 60 is finished with loss = 2.427428960800171\n",
      "Epoch 70 is finished with loss = 2.4516959190368652\n",
      "Epoch 80 is finished with loss = 2.4386813640594482\n",
      "Epoch 90 is finished with loss = 2.4247405529022217\n",
      "Epoch 100 is finished with loss = 2.515331983566284\n"
     ]
    }
   ],
   "source": [
    "learner = Learner(multi_layer, 30)\n",
    "learner(training_seequence, epochs=100, report_epochs=10)"
   ]
  }
 ],
 "metadata": {
  "kernelspec": {
   "display_name": "Python 3 (ipykernel)",
   "language": "python",
   "name": "python3"
  },
  "language_info": {
   "codemirror_mode": {
    "name": "ipython",
    "version": 3
   },
   "file_extension": ".py",
   "mimetype": "text/x-python",
   "name": "python",
   "nbconvert_exporter": "python",
   "pygments_lexer": "ipython3",
   "version": "3.12.4"
  }
 },
 "nbformat": 4,
 "nbformat_minor": 5
}
