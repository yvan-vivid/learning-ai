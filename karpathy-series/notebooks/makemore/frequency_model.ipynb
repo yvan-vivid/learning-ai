{
 "cells": [
  {
   "cell_type": "code",
   "execution_count": 7,
   "id": "14d2536a-cf8f-4e8c-85ca-f4dd069246e1",
   "metadata": {},
   "outputs": [],
   "source": [
    "from matplotlib import pyplot as plt\n",
    "from torch import manual_seed\n",
    "from functools import partial\n",
    "\n",
    "from pathlib import Path\n",
    "from karpathy_series.makemore.data import read_data\n",
    "from karpathy_series.makemore.models.frequentist import FreqModel\n",
    "from karpathy_series.makemore.encoding.character import CharacterEncoder, CharacterSet\n",
    "from karpathy_series.makemore.training.data import TrainingSequencer\n",
    "from karpathy_series.makemore.training.learning import FreqLearner\n",
    "from karpathy_series.makemore.bigrams import BiGram\n",
    "\n",
    "%matplotlib inline\n",
    "generator = manual_seed(2147483647)"
   ]
  },
  {
   "cell_type": "code",
   "execution_count": 2,
   "id": "81ed41da-10b8-4381-8925-7d6835c3dc7a",
   "metadata": {},
   "outputs": [],
   "source": [
    "data_path = Path(\"../../data/names.txt\")\n",
    "words = read_data(data_path)\n",
    "char_set = CharacterSet.from_words(words)\n",
    "char_encoder = CharacterEncoder.from_charset(char_set)\n",
    "bi_gram_gen = partial(BiGram.generate, char_set.pad)\n",
    "ts_bi = TrainingSequencer(char_encoder, char_encoder, bi_gram_gen)"
   ]
  },
  {
   "cell_type": "code",
   "execution_count": 4,
   "id": "1d6c38eb-5d1f-4ab0-b7a8-46b898260f8f",
   "metadata": {},
   "outputs": [],
   "source": [
    "freq_model = FreqModel.as_cleared(char_encoder, char_encoder)"
   ]
  },
  {
   "cell_type": "code",
   "execution_count": 5,
   "id": "b1d45221-8f2e-4011-9609-9b4363a2cbc3",
   "metadata": {},
   "outputs": [],
   "source": [
    "freq_training = ts_bi.freq_sequence(words)"
   ]
  },
  {
   "cell_type": "code",
   "execution_count": 6,
   "id": "23b54b3b-37e4-4dac-ad0c-8c2cf63185f8",
   "metadata": {},
   "outputs": [],
   "source": [
    "freq_learner = FreqLearner(freq_model)\n",
    "freq_learner(freq_training)"
   ]
  },
  {
   "cell_type": "code",
   "execution_count": null,
   "id": "a1ad86f7-bbcd-4849-9a3f-cb58035672cf",
   "metadata": {},
   "outputs": [],
   "source": [
    "plt.figure(figsize=(16, 16))\n",
    "plt.imshow(freq_model.under, cmap=\"Blues\")\n",
    "for i, j, count in freq_model.items():\n",
    "    code = char_encoder.decode(i) + char_encoder.decode(j)\n",
    "    color = \"red\" if count == 0 else (\"white\" if count > 3000 else \"gray\")\n",
    "    plt.text(j, i, code, ha=\"center\", va=\"bottom\", color=color)\n",
    "    plt.text(j, i, count, ha=\"center\", va=\"top\", color=color)\n",
    "plt.axis(\"off\")"
   ]
  },
  {
   "cell_type": "code",
   "execution_count": null,
   "id": "f559c88c-be88-4cb1-90c1-4a098f2fcdda",
   "metadata": {},
   "outputs": [],
   "source": [
    "generated = [freq_model.generate() for _ in range(10000)]\n",
    "generated_stream = encoding.form_token_stream(generated)\n",
    "freq_model.loss(generated_stream)"
   ]
  }
 ],
 "metadata": {
  "kernelspec": {
   "display_name": "Python 3 (ipykernel)",
   "language": "python",
   "name": "python3"
  },
  "language_info": {
   "codemirror_mode": {
    "name": "ipython",
    "version": 3
   },
   "file_extension": ".py",
   "mimetype": "text/x-python",
   "name": "python",
   "nbconvert_exporter": "python",
   "pygments_lexer": "ipython3",
   "version": "3.12.4"
  }
 },
 "nbformat": 4,
 "nbformat_minor": 5
}
