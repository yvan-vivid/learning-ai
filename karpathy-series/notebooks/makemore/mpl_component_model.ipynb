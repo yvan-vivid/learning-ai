{
 "cells": [
  {
   "cell_type": "code",
   "execution_count": 1,
   "id": "14d2536a-cf8f-4e8c-85ca-f4dd069246e1",
   "metadata": {},
   "outputs": [],
   "source": [
    "from torch import Generator, use_deterministic_algorithms, tensor\n",
    "from functools import partial\n",
    "from matplotlib.pyplot import plot\n",
    "\n",
    "from pathlib import Path\n",
    "from karpathy_series.makemore.data import read_data\n",
    "from karpathy_series.makemore.encoding.character import CharacterEncoder, CharacterSet, StringEncoder\n",
    "from karpathy_series.makemore.training.data import TrainingSequencer\n",
    "from karpathy_series.makemore.training.learning import Learner\n",
    "from karpathy_series.makemore.models.generation import NGramNetGenerator\n",
    "from karpathy_series.makemore.models.mlp import MPLNetComponents\n",
    "from karpathy_series.makemore.bigrams import NGram\n",
    "\n",
    "%matplotlib inline\n",
    "use_deterministic_algorithms(True)\n",
    "rand_generator = Generator()\n",
    "seed = 2147483647\n",
    "\n",
    "def create_generator():\n",
    "    return rand_generator.manual_seed(seed)"
   ]
  },
  {
   "cell_type": "code",
   "execution_count": 2,
   "id": "81ed41da-10b8-4381-8925-7d6835c3dc7a",
   "metadata": {},
   "outputs": [],
   "source": [
    "data_path = Path(\"../../data/names.txt\")\n",
    "words = read_data(data_path)\n",
    "char_set = CharacterSet.from_words(words)\n",
    "char_encoder = CharacterEncoder.from_charset(char_set)\n",
    "string_encoder = StringEncoder(char_encoder)\n",
    "\n",
    "context_size = 4\n",
    "n_gram_gen = partial(NGram.generate, context_size, char_set.pad) \n",
    "ts = TrainingSequencer(string_encoder, char_encoder, n_gram_gen)\n",
    "\n",
    "embedding_dims = 10\n",
    "hidden_dims = 200"
   ]
  },
  {
   "cell_type": "code",
   "execution_count": 3,
   "id": "0c1d1758-79c5-4ee7-8139-de9b4756ea33",
   "metadata": {},
   "outputs": [],
   "source": [
    "import random\n",
    "random.seed(42)\n",
    "random.shuffle(words)\n",
    "n1 = int(0.8*len(words))\n",
    "n2 = int(0.9*len(words))\n",
    "\n",
    "xis_d, yis_d = ts.training_set(words[n1:n2])\n",
    "xis_v, yis_v = ts.training_set(words[n2:])\n",
    "    \n",
    "learning_sequence = ts.training_sequence(words[:n1], 32, True)"
   ]
  },
  {
   "cell_type": "code",
   "execution_count": 4,
   "id": "06f42856-bb73-457d-9caf-f528130b7b0b",
   "metadata": {},
   "outputs": [],
   "source": [
    "g = rand_generator.manual_seed(seed)\n",
    "mpl_net = MPLNetComponents.init(4, char_encoder.size, embedding_dims, context_size, hidden_dims, g)\n",
    "generator = NGramNetGenerator(char_set, string_encoder, char_encoder, mpl_net)\n",
    "losses = []"
   ]
  },
  {
   "cell_type": "code",
   "execution_count": 5,
   "id": "0c63e40d-3a08-4d2d-9ea4-36a46b8a0762",
   "metadata": {},
   "outputs": [
    {
     "name": "stdout",
     "output_type": "stream",
     "text": [
      "134497 parameters\n",
      "Layers:\n",
      "0 Embedding [27, 10]\n",
      "1 Linear [40, 200] with bias\n",
      "2 Functional\n",
      "3 Linear [200, 200] with bias\n",
      "4 Functional\n",
      "5 Linear [200, 200] with bias\n",
      "6 Functional\n",
      "7 Linear [200, 200] with bias\n",
      "8 Functional\n",
      "9 Linear [200, 27] with bias\n"
     ]
    }
   ],
   "source": [
    "print(sum(p.size() for p in mpl_net.layers), \"parameters\")\n",
    "print(\"Layers:\")\n",
    "for k, p in enumerate(mpl_net.layers):\n",
    "    print(k, p.describe())"
   ]
  },
  {
   "cell_type": "code",
   "execution_count": 6,
   "id": "05fa4660-bb69-4c67-903b-ab570f211a8f",
   "metadata": {},
   "outputs": [
    {
     "name": "stdout",
     "output_type": "stream",
     "text": [
      "Epoch 10 is finished with loss = 1.9937138557434082\n",
      "Epoch 20 is finished with loss = 2.0006587505340576\n",
      "Epoch 30 is finished with loss = 1.7715468406677246\n",
      "Epoch 40 is finished with loss = 1.8840248584747314\n",
      "Epoch 50 is finished with loss = 1.8863272666931152\n"
     ]
    }
   ],
   "source": [
    "learner = Learner(mpl_net, 0.1)\n",
    "losses += learner(learning_sequence, epochs=50, report_epochs=10)"
   ]
  },
  {
   "cell_type": "code",
   "execution_count": 7,
   "id": "fab7c9c3-125c-4771-b975-8bf75b52a71c",
   "metadata": {},
   "outputs": [
    {
     "name": "stdout",
     "output_type": "stream",
     "text": [
      "tensor(2.0408, grad_fn=<NllLossBackward0>)\n"
     ]
    }
   ],
   "source": [
    "print(mpl_net.run(xis_v, yis_v))"
   ]
  },
  {
   "cell_type": "code",
   "execution_count": 8,
   "id": "836a6988-7b8b-480b-98eb-a81ffa826de8",
   "metadata": {},
   "outputs": [
    {
     "name": "stdout",
     "output_type": "stream",
     "text": [
      "kailitha\n",
      "henry\n",
      "cateto\n",
      "nicolas\n",
      "raylia\n",
      "hiya\n",
      "tono\n",
      "eyvani\n",
      "zephine\n",
      "denis\n",
      "liah\n",
      "hanett\n",
      "kyron\n",
      "demyah\n",
      "eliannata\n",
      "arter\n",
      "remini\n",
      "laury\n",
      "kamryn\n",
      "zhara\n"
     ]
    }
   ],
   "source": [
    "for k in range(20):\n",
    "    print(generator())"
   ]
  },
  {
   "cell_type": "code",
   "execution_count": 9,
   "id": "d314ca99-c6ae-4b00-bba1-d52f2979d94c",
   "metadata": {},
   "outputs": [
    {
     "data": {
      "text/plain": [
       "[<matplotlib.lines.Line2D at 0x7eff78f20800>]"
      ]
     },
     "execution_count": 9,
     "metadata": {},
     "output_type": "execute_result"
    },
    {
     "data": {
      "image/png": "[encoded data removed]",
      "text/plain": [
       "<Figure size 640x480 with 1 Axes>"
      ]
     },
     "metadata": {},
     "output_type": "display_data"
    }
   ],
   "source": [
    "plot(tensor(losses))"
   ]
  },
  {
   "cell_type": "code",
   "execution_count": null,
   "id": "dd45cf5a-d74d-4dcb-961f-e55d6e3cf6ee",
   "metadata": {},
   "outputs": [],
   "source": []
  }
 ],
 "metadata": {
  "kernelspec": {
   "display_name": "Python 3 (ipykernel)",
   "language": "python",
   "name": "python3"
  },
  "language_info": {
   "codemirror_mode": {
    "name": "ipython",
    "version": 3
   },
   "file_extension": ".py",
   "mimetype": "text/x-python",
   "name": "python",
   "nbconvert_exporter": "python",
   "pygments_lexer": "ipython3",
   "version": "3.12.4"
  }
 },
 "nbformat": 4,
 "nbformat_minor": 5
}
